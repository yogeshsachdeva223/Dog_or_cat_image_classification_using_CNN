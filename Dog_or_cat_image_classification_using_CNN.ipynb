{
 "cells": [
  {
   "cell_type": "markdown",
   "id": "34d32940",
   "metadata": {},
   "source": [
    "<h1>Convolutional Neural Network</h1>"
   ]
  },
  {
   "cell_type": "markdown",
   "id": "77319498",
   "metadata": {},
   "source": [
    "<h3>Importing the libraries</h3>"
   ]
  },
  {
   "cell_type": "code",
   "execution_count": 1,
   "id": "773d96c3",
   "metadata": {},
   "outputs": [],
   "source": [
    "import tensorflow as tf\n",
    "from keras.preprocessing.image import ImageDataGenerator"
   ]
  },
  {
   "cell_type": "code",
   "execution_count": 2,
   "id": "64164393",
   "metadata": {},
   "outputs": [
    {
     "data": {
      "text/plain": [
       "'2.9.1'"
      ]
     },
     "execution_count": 2,
     "metadata": {},
     "output_type": "execute_result"
    }
   ],
   "source": [
    "tf.__version__"
   ]
  },
  {
   "cell_type": "markdown",
   "id": "17b657b2",
   "metadata": {},
   "source": [
    "<h2>Part 1 - Data Preprocessing</h2>"
   ]
  },
  {
   "cell_type": "markdown",
   "id": "b7653a2a",
   "metadata": {},
   "source": [
    "<h3>Preprocessing the Training set</h3>"
   ]
  },
  {
   "cell_type": "code",
   "execution_count": 6,
   "id": "3743934c",
   "metadata": {},
   "outputs": [
    {
     "name": "stdout",
     "output_type": "stream",
     "text": [
      "Found 8000 images belonging to 2 classes.\n"
     ]
    }
   ],
   "source": [
    "train_datagen = ImageDataGenerator(rescale = 1./255,\n",
    "                                   shear_range = 0.2,\n",
    "                                   zoom_range = 0.2,\n",
    "                                   horizontal_flip = True)\n",
    "training_set = train_datagen.flow_from_directory('CNN Dataset//training_set',\n",
    "                                                 target_size = (64, 64),\n",
    "                                                 batch_size = 32,\n",
    "                                                 class_mode = 'binary')"
   ]
  },
  {
   "cell_type": "markdown",
   "id": "737fa89e",
   "metadata": {},
   "source": [
    "<h3>Preprocessing the Test set</h3>"
   ]
  },
  {
   "cell_type": "code",
   "execution_count": 7,
   "id": "9c13fb1d",
   "metadata": {},
   "outputs": [
    {
     "name": "stdout",
     "output_type": "stream",
     "text": [
      "Found 2000 images belonging to 2 classes.\n"
     ]
    }
   ],
   "source": [
    "test_datagen = ImageDataGenerator(rescale = 1./255)\n",
    "test_set = test_datagen.flow_from_directory('CNN Dataset//test_set',\n",
    "                                            target_size = (64, 64),\n",
    "                                            batch_size = 32,\n",
    "                                            class_mode = 'binary')"
   ]
  },
  {
   "cell_type": "markdown",
   "id": "9649c09d",
   "metadata": {},
   "source": [
    "<h2>Part 2 - Building the CNN</h2>"
   ]
  },
  {
   "cell_type": "code",
   "execution_count": 8,
   "id": "9818f5ab",
   "metadata": {},
   "outputs": [],
   "source": [
    "cnn = tf.keras.models.Sequential()"
   ]
  },
  {
   "cell_type": "code",
   "execution_count": 9,
   "id": "ed6acc5d",
   "metadata": {},
   "outputs": [],
   "source": [
    "cnn.add(tf.keras.layers.Conv2D(filters=32, kernel_size=3, activation='relu', input_shape=[64, 64, 3]))"
   ]
  },
  {
   "cell_type": "code",
   "execution_count": 10,
   "id": "cf432fd7",
   "metadata": {},
   "outputs": [],
   "source": [
    "cnn.add(tf.keras.layers.MaxPool2D(pool_size=2, strides=2))"
   ]
  },
  {
   "cell_type": "code",
   "execution_count": 11,
   "id": "097c8ce9",
   "metadata": {},
   "outputs": [],
   "source": [
    "cnn.add(tf.keras.layers.Conv2D(filters=32, kernel_size=3, activation='relu'))\n",
    "cnn.add(tf.keras.layers.MaxPool2D(pool_size=2, strides=2))"
   ]
  },
  {
   "cell_type": "code",
   "execution_count": 12,
   "id": "584ab5d0",
   "metadata": {},
   "outputs": [],
   "source": [
    "cnn.add(tf.keras.layers.Flatten())"
   ]
  },
  {
   "cell_type": "code",
   "execution_count": 13,
   "id": "9f22d9d2",
   "metadata": {},
   "outputs": [],
   "source": [
    "cnn.add(tf.keras.layers.Dense(units=128, activation='relu'))"
   ]
  },
  {
   "cell_type": "code",
   "execution_count": 14,
   "id": "fae76793",
   "metadata": {},
   "outputs": [],
   "source": [
    "cnn.add(tf.keras.layers.Dense(units=1, activation='sigmoid'))"
   ]
  },
  {
   "cell_type": "markdown",
   "id": "d428c38a",
   "metadata": {},
   "source": [
    "<h2>Part 3 - Training the CNN</h2>"
   ]
  },
  {
   "cell_type": "markdown",
   "id": "26942938",
   "metadata": {},
   "source": [
    "<h3>Compiling the CNN</h3>"
   ]
  },
  {
   "cell_type": "code",
   "execution_count": 15,
   "id": "0464ad9a",
   "metadata": {},
   "outputs": [],
   "source": [
    "cnn.compile(optimizer = 'adam', loss = 'binary_crossentropy', metrics = ['accuracy'])"
   ]
  },
  {
   "cell_type": "markdown",
   "id": "7365a0ac",
   "metadata": {},
   "source": [
    "<h3>Compiling the CNN</h3>"
   ]
  },
  {
   "cell_type": "code",
   "execution_count": 16,
   "id": "b08089f5",
   "metadata": {},
   "outputs": [
    {
     "name": "stdout",
     "output_type": "stream",
     "text": [
      "Epoch 1/25\n",
      "250/250 [==============================] - 121s 479ms/step - loss: 0.6487 - accuracy: 0.6150 - val_loss: 0.6026 - val_accuracy: 0.6775\n",
      "Epoch 2/25\n",
      "250/250 [==============================] - 96s 385ms/step - loss: 0.5788 - accuracy: 0.6981 - val_loss: 0.5511 - val_accuracy: 0.7355\n",
      "Epoch 3/25\n",
      "250/250 [==============================] - 94s 377ms/step - loss: 0.5510 - accuracy: 0.7182 - val_loss: 0.6005 - val_accuracy: 0.6825\n",
      "Epoch 4/25\n",
      "250/250 [==============================] - 97s 389ms/step - loss: 0.5140 - accuracy: 0.7449 - val_loss: 0.5005 - val_accuracy: 0.7625\n",
      "Epoch 5/25\n",
      "250/250 [==============================] - 98s 393ms/step - loss: 0.4951 - accuracy: 0.7536 - val_loss: 0.4796 - val_accuracy: 0.7700\n",
      "Epoch 6/25\n",
      "250/250 [==============================] - 95s 380ms/step - loss: 0.4769 - accuracy: 0.7699 - val_loss: 0.4938 - val_accuracy: 0.7630\n",
      "Epoch 7/25\n",
      "250/250 [==============================] - 98s 393ms/step - loss: 0.4535 - accuracy: 0.7806 - val_loss: 0.5089 - val_accuracy: 0.7715\n",
      "Epoch 8/25\n",
      "250/250 [==============================] - 95s 381ms/step - loss: 0.4422 - accuracy: 0.7945 - val_loss: 0.4581 - val_accuracy: 0.7880\n",
      "Epoch 9/25\n",
      "250/250 [==============================] - 99s 397ms/step - loss: 0.4189 - accuracy: 0.8046 - val_loss: 0.4699 - val_accuracy: 0.7785\n",
      "Epoch 10/25\n",
      "250/250 [==============================] - 98s 392ms/step - loss: 0.4134 - accuracy: 0.8087 - val_loss: 0.4747 - val_accuracy: 0.7795\n",
      "Epoch 11/25\n",
      "250/250 [==============================] - 94s 376ms/step - loss: 0.3990 - accuracy: 0.8173 - val_loss: 0.4391 - val_accuracy: 0.8025\n",
      "Epoch 12/25\n",
      "250/250 [==============================] - 95s 380ms/step - loss: 0.3792 - accuracy: 0.8275 - val_loss: 0.5522 - val_accuracy: 0.7540\n",
      "Epoch 13/25\n",
      "250/250 [==============================] - 95s 380ms/step - loss: 0.3696 - accuracy: 0.8320 - val_loss: 0.4318 - val_accuracy: 0.8065\n",
      "Epoch 14/25\n",
      "250/250 [==============================] - 94s 376ms/step - loss: 0.3526 - accuracy: 0.8388 - val_loss: 0.4586 - val_accuracy: 0.7845\n",
      "Epoch 15/25\n",
      "250/250 [==============================] - 97s 387ms/step - loss: 0.3371 - accuracy: 0.8504 - val_loss: 0.4347 - val_accuracy: 0.8105\n",
      "Epoch 16/25\n",
      "250/250 [==============================] - 100s 399ms/step - loss: 0.3181 - accuracy: 0.8593 - val_loss: 0.4806 - val_accuracy: 0.7840\n",
      "Epoch 17/25\n",
      "250/250 [==============================] - 94s 376ms/step - loss: 0.3146 - accuracy: 0.8590 - val_loss: 0.4500 - val_accuracy: 0.8055\n",
      "Epoch 18/25\n",
      "250/250 [==============================] - 94s 377ms/step - loss: 0.3021 - accuracy: 0.8702 - val_loss: 0.4570 - val_accuracy: 0.8210\n",
      "Epoch 19/25\n",
      "250/250 [==============================] - 95s 379ms/step - loss: 0.2956 - accuracy: 0.8745 - val_loss: 0.4958 - val_accuracy: 0.7870\n",
      "Epoch 20/25\n",
      "250/250 [==============================] - 97s 387ms/step - loss: 0.2784 - accuracy: 0.8770 - val_loss: 0.4549 - val_accuracy: 0.8070\n",
      "Epoch 21/25\n",
      "250/250 [==============================] - 98s 391ms/step - loss: 0.2571 - accuracy: 0.8944 - val_loss: 0.4968 - val_accuracy: 0.7985\n",
      "Epoch 22/25\n",
      "250/250 [==============================] - 98s 391ms/step - loss: 0.2483 - accuracy: 0.8931 - val_loss: 0.4872 - val_accuracy: 0.8095\n",
      "Epoch 23/25\n",
      "250/250 [==============================] - 97s 389ms/step - loss: 0.2426 - accuracy: 0.8994 - val_loss: 0.5033 - val_accuracy: 0.8005\n",
      "Epoch 24/25\n",
      "250/250 [==============================] - 98s 390ms/step - loss: 0.2291 - accuracy: 0.9065 - val_loss: 0.5288 - val_accuracy: 0.8000\n",
      "Epoch 25/25\n",
      "250/250 [==============================] - 100s 402ms/step - loss: 0.2133 - accuracy: 0.9155 - val_loss: 0.5213 - val_accuracy: 0.7960\n"
     ]
    },
    {
     "data": {
      "text/plain": [
       "<keras.callbacks.History at 0x20c9ff90610>"
      ]
     },
     "execution_count": 16,
     "metadata": {},
     "output_type": "execute_result"
    }
   ],
   "source": [
    "cnn.fit(x = training_set, validation_data = test_set, epochs = 25)"
   ]
  },
  {
   "cell_type": "markdown",
   "id": "7406f82e",
   "metadata": {},
   "source": [
    "<h3>Part 4 - Making a single prediction</h3>"
   ]
  },
  {
   "cell_type": "code",
   "execution_count": 24,
   "id": "76a56053",
   "metadata": {},
   "outputs": [
    {
     "name": "stdout",
     "output_type": "stream",
     "text": [
      "1/1 [==============================] - 0s 39ms/step\n"
     ]
    }
   ],
   "source": [
    "import numpy as np\n",
    "from tensorflow.keras.preprocessing import image\n",
    "test_image = image.load_img('CNN Dataset\\single_prediction\\cat_or_dog_1.jpg', target_size = (64, 64))\n",
    "test_image = image.img_to_array(test_image)\n",
    "test_image = np.expand_dims(test_image, axis = 0)\n",
    "result = cnn.predict(test_image)\n",
    "training_set.class_indices\n",
    "if result[0][0] == 1:\n",
    "  prediction = 'dog'\n",
    "else:\n",
    "  prediction = 'cat'"
   ]
  },
  {
   "cell_type": "code",
   "execution_count": 25,
   "id": "5a5bdbe1",
   "metadata": {},
   "outputs": [
    {
     "name": "stdout",
     "output_type": "stream",
     "text": [
      "dog\n"
     ]
    }
   ],
   "source": [
    "print(prediction)"
   ]
  }
 ],
 "metadata": {
  "kernelspec": {
   "display_name": "Python 3",
   "language": "python",
   "name": "python3"
  },
  "language_info": {
   "codemirror_mode": {
    "name": "ipython",
    "version": 3
   },
   "file_extension": ".py",
   "mimetype": "text/x-python",
   "name": "python",
   "nbconvert_exporter": "python",
   "pygments_lexer": "ipython3",
   "version": "3.8.8"
  }
 },
 "nbformat": 4,
 "nbformat_minor": 5
}
